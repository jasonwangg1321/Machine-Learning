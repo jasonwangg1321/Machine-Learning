{
 "cells": [
  {
   "cell_type": "markdown",
   "metadata": {},
   "source": [
    "Final Project\n",
    "\n",
    "Name: Jason Wang\n",
    "\n",
    "USC ID: 5363148736\n"
   ]
  },
  {
   "cell_type": "code",
   "execution_count": 1,
   "metadata": {},
   "outputs": [],
   "source": [
    "import pandas as pd\n",
    "import numpy as np\n",
    "import os\n",
    "import re\n",
    "import keras\n",
    "from collections import Counter\n",
    "import seaborn as sns\n",
    "from tensorflow.keras.preprocessing.text import Tokenizer\n",
    "from keras.preprocessing.sequence import pad_sequences\n",
    "from keras.layers import Embedding, Conv1D, MaxPooling1D, Flatten\n",
    "import tensorflow as tf\n",
    "import torch \n",
    "import torch.nn as nn\n",
    "from torch.utils.data import DataLoader, TensorDataset\n",
    "from tensorflow.keras.layers import LSTM, Dense, Dropout, Activation\n",
    "import matplotlib.pyplot as plt\n"
   ]
  },
  {
   "cell_type": "code",
   "execution_count": 2,
   "metadata": {},
   "outputs": [
    {
     "name": "stdout",
     "output_type": "stream",
     "text": [
      "                                                text  label\n",
      "0  films adapted from comic books have had plenty...      1\n",
      "1  every now and then a movie comes along from a ...      1\n",
      "2  youve got mail works alot better than it deser...      1\n",
      "3    jaws  is a rare film that grabs your attenti...      1\n",
      "4  moviemaking is a lot like being the general ma...      1\n"
     ]
    }
   ],
   "source": [
    "# preprocessing\n",
    "pos_training = []\n",
    "neg_training = []\n",
    "pos_test = []\n",
    "neg_test = []\n",
    "file_check = []\n",
    "words = []\n",
    "\n",
    "pos_folder = os.listdir('pos')\n",
    "neg_folder = os.listdir('neg')\n",
    "\n",
    "for i, file in enumerate(pos_folder):\n",
    "    if i <700: #0-699 for training, csvs are already sorted\n",
    "        file_check.append(file)\n",
    "        with open (os.path.join('pos',file), 'r') as f:\n",
    "            text = f.read()\n",
    "            text = re.sub(r'\\d', '', text)  # removing puncutation https://stackoverflow.com/questions/18429143/strip-punctuation-with-regex-python\n",
    "            text = re.sub(r'[^\\w\\s]', '', text)\n",
    "            text = re.sub(r'[_]', '', text)\n",
    "            word = text.split()\n",
    "            words.extend(word)\n",
    "            pos_training.append((text,1)) # binary encoding for sentiments\n",
    "    elif i > 700:\n",
    "        with open (os.path.join('pos',file), 'r') as f:\n",
    "            text = f.read()\n",
    "            text = re.sub(r'\\d', '', text) \n",
    "            text = re.sub(r'[^\\w\\s]', '', text)\n",
    "            text = re.sub(r'[_]', ' ', text)\n",
    "            word = text.split()\n",
    "            words.extend(word)\n",
    "            pos_test.append((text,1))\n",
    "\n",
    "for i, file in enumerate(neg_folder):\n",
    "    if i < 700:\n",
    "        with open (os.path.join('neg',file), 'r') as f:\n",
    "            text = f.read()\n",
    "            text = re.sub(r'\\d', '', text)  \n",
    "            text = re.sub(r'[^\\w\\s]', '', text)\n",
    "            text = re.sub(r'[_]', ' ', text)\n",
    "            word = text.split()\n",
    "            words.extend(word)\n",
    "            neg_training.append((text,-1))\n",
    "    elif i > 700:\n",
    "        with open (os.path.join('neg',file), 'r') as f:\n",
    "            text = f.read()\n",
    "            text = re.sub(r'\\d', '', text)  \n",
    "            text = re.sub(r'[^\\w\\s]', '', text)\n",
    "            text = re.sub(r'[_]', ' ', text)\n",
    "            word = text.split()\n",
    "            words.extend(word)\n",
    "            neg_test.append((text,-1))\n",
    "\n",
    "# print(file_check)\n",
    "full_dataset = pos_training+ neg_training + pos_test + neg_test\n",
    "\n",
    "pos_training_df = pd.DataFrame(pos_training, columns=['text', 'label'])\n",
    "neg_training_df = pd.DataFrame(neg_training, columns=['text', 'label'])\n",
    "pos_test_df = pd.DataFrame(pos_test, columns=['text', 'label'])\n",
    "neg_test_df = pd.DataFrame(neg_test, columns=['text', 'label'])\n",
    "\n",
    "full_training_df = pd.concat([pos_training_df,neg_training_df])\n",
    "full_test_df = pd.concat([pos_test_df,neg_test_df])\n",
    "\n",
    "full_data_df = pd.DataFrame(full_dataset, columns=['text', 'label'])\n",
    "\n",
    "print(full_data_df.head())\n"
   ]
  },
  {
   "cell_type": "code",
   "execution_count": 3,
   "metadata": {},
   "outputs": [
    {
     "name": "stdout",
     "output_type": "stream",
     "text": [
      "Number of total words: 1286868\n",
      "Number of Unique words: 46727\n",
      "Average Review Length: 644.0780780780781\n",
      "SD Review Length: 14.567780002739045\n"
     ]
    }
   ],
   "source": [
    "average = len(words)/1998\n",
    "count = Counter(words) \n",
    "lengths = []\n",
    "i = 0\n",
    "for j,row in enumerate(full_data_df['text']):\n",
    "    texts = row.split()\n",
    "    length = len(texts)\n",
    "    lengths.append(length)\n",
    "    i += np.sqrt((length - average)**2)\n",
    "\n",
    "sd = np.sqrt(i/1998)\n",
    "\n",
    "print(f'Number of total words: {len(words)}') \n",
    "print(f'Number of Unique words: {len(count)}')\n",
    "print(f'Average Review Length: {average}')\n",
    "print(f'SD Review Length: {sd}')\n"
   ]
  },
  {
   "cell_type": "code",
   "execution_count": 4,
   "metadata": {},
   "outputs": [
    {
     "data": {
      "image/png": "[encoded data removed]",
      "text/plain": [
       "<Figure size 640x480 with 1 Axes>"
      ]
     },
     "metadata": {},
     "output_type": "display_data"
    }
   ],
   "source": [
    "sns.histplot(data = full_data_df, x = lengths)\n",
    "plt.title('Histogram of Review Lengths')\n",
    "plt.xlabel('Review Length')\n",
    "plt.ylabel('Frequency')\n",
    "plt.show()"
   ]
  },
  {
   "cell_type": "code",
   "execution_count": 5,
   "metadata": {},
   "outputs": [
    {
     "name": "stdout",
     "output_type": "stream",
     "text": [
      "1400\n"
     ]
    }
   ],
   "source": [
    "tokenizer = Tokenizer()\n",
    "\n",
    "all_data_tokenize = full_data_df['text'].tolist()\n",
    "training_tokenize = full_training_df['text'].tolist()\n",
    "test_tokenize = full_test_df['text'].tolist()\n",
    "\n",
    "#https://stackoverflow.com/questions/54891464/is-it-better-to-keras-fit-to-text-on-the-entire-x-data-or-just-the-train-data\n",
    "# read it is better to only fit on training data to prevent data leakage/ bias in model\n",
    "\n",
    "tokenizer.fit_on_texts(training_tokenize)\n",
    "\n",
    "train_seq = tokenizer.texts_to_sequences(training_tokenize)\n",
    "test_seq = tokenizer.texts_to_sequences(test_tokenize)\n",
    "all_seq = tokenizer.texts_to_sequences(all_data_tokenize)\n",
    "\n",
    "print(len(train_seq))"
   ]
  },
  {
   "cell_type": "code",
   "execution_count": 6,
   "metadata": {},
   "outputs": [
    {
     "data": {
      "text/plain": [
       "734.0"
      ]
     },
     "execution_count": 6,
     "metadata": {},
     "output_type": "execute_result"
    }
   ],
   "source": [
    "sequence_lengths = []\n",
    "for seq in all_seq:\n",
    "    sequence_lengths.append(len(seq))\n",
    "\n",
    "L = np.percentile(sequence_lengths, 70)\n",
    "L"
   ]
  },
  {
   "cell_type": "code",
   "execution_count": 7,
   "metadata": {},
   "outputs": [
    {
     "data": {
      "text/plain": [
       "array([[    0,     0,     0, ...,     3,  1072,  1487],\n",
       "       [    0,     0,     0, ...,    10,     2,  1950],\n",
       "       [    0,     0,     0, ...,     1,   610,  7304],\n",
       "       ...,\n",
       "       [    0,     0,     0, ..., 14164,    30,  2421],\n",
       "       [    0,     0,     0, ...,   230,     7,  6634],\n",
       "       [    0,     0,     0, ...,     9,    25,   208]])"
      ]
     },
     "execution_count": 7,
     "metadata": {},
     "output_type": "execute_result"
    }
   ],
   "source": [
    "#https://stackoverflow.com/questions/46298793/how-does-choosing-between-pre-and-post-zero-padding-of-sequences-impact-results did some research and it seems that pre padding leads to more accuracy / less noise\n",
    "padded_training_seq = pad_sequences(train_seq, maxlen = int(np.floor(L)), padding = 'pre', truncating= 'pre' )\n",
    "padded_training_df = pd.DataFrame(padded_training_seq)\n",
    "\n",
    "padded_test_seq = pad_sequences(test_seq, maxlen = int(np.floor(L)), padding = 'pre', truncating= 'pre' )\n",
    "padded_test_df = pd.DataFrame(padded_test_seq)\n",
    "\n",
    "padded_training_seq\n",
    "\n"
   ]
  },
  {
   "cell_type": "code",
   "execution_count": 8,
   "metadata": {},
   "outputs": [
    {
     "name": "stdout",
     "output_type": "stream",
     "text": [
      "(1400, 734, 32)\n",
      "(1400, 23488)\n"
     ]
    }
   ],
   "source": [
    "# Word Embeddings\n",
    "# https://keras.io/api/layers/core_layers/embedding/ below is taken from keras.io\n",
    "training_top_5000 = np.where(padded_training_seq > 5000, 0, padded_training_seq)\n",
    "\n",
    "embed = Embedding(5001, 32)\n",
    "flatten = Flatten()\n",
    "\n",
    "training_output = embed(training_top_5000)\n",
    "training_output_flat = flatten(training_output)\n",
    "\n",
    "training_output = training_output.numpy()\n",
    "torch_training_output = torch.tensor(training_output)\n",
    "\n",
    "training_output_flat = training_output_flat.numpy()\n",
    "torch_training_output_flat = torch.tensor(training_output_flat)\n",
    "\n",
    "print(training_output.shape)\n",
    "print(training_output_flat.shape)\n"
   ]
  },
  {
   "cell_type": "code",
   "execution_count": 9,
   "metadata": {},
   "outputs": [
    {
     "name": "stdout",
     "output_type": "stream",
     "text": [
      "Sequential(\n",
      "  (dense1): Linear(in_features=23488, out_features=50, bias=True)\n",
      "  (act1): ReLU()\n",
      "  (dropout1): Dropout(p=0.2, inplace=False)\n",
      "  (dense2): Linear(in_features=50, out_features=50, bias=True)\n",
      "  (act2): ReLU()\n",
      "  (droupout2): Dropout(p=0.5, inplace=False)\n",
      "  (dense3): Linear(in_features=50, out_features=50, bias=True)\n",
      "  (act3): ReLU()\n",
      "  (droupout3): Dropout(p=0.5, inplace=False)\n",
      "  (output): Linear(in_features=50, out_features=1, bias=True)\n",
      "  (outact): Sigmoid()\n",
      ")\n"
     ]
    }
   ],
   "source": [
    "# Train a MLP with three (dense) hidden layers each of which has 50 ReLUs\n",
    "# and one output layer with a single sigmoid neuron. Use a dropout rate of\n",
    "# 20% for the first layer and 50% for the other layers. Use ADAM optimizer\n",
    "# and binary cross entropy loss (which is equivalent to having a softmax in the\n",
    "# output). To avoid overfitting, just set the number of epochs as 2. Use a batch size of 10.\n",
    "\n",
    "#https://machinelearningmastery.com/building-multilayer-perceptron-models-in-pytorch/\n",
    "# used the above as reference to building this mlp\n",
    "\n",
    "mlp = nn.Sequential()\n",
    "mlp.add_module('dense1', nn.Linear(23488, 50))\n",
    "mlp.add_module('act1', nn.ReLU())\n",
    "mlp.add_module('dropout1', nn.Dropout(p=0.2))\n",
    "mlp.add_module('dense2', nn.Linear(50,50))\n",
    "mlp.add_module('act2', nn.ReLU())\n",
    "mlp.add_module('droupout2', nn.Dropout(p=0.5))\n",
    "mlp.add_module('dense3', nn.Linear(50,50))\n",
    "mlp.add_module('act3', nn.ReLU())\n",
    "mlp.add_module('droupout3', nn.Dropout(p=0.5))\n",
    "mlp.add_module(\"output\", nn.Linear(50, 1))\n",
    "mlp.add_module(\"outact\", nn.Sigmoid())\n",
    "\n",
    "\n",
    "print(mlp)"
   ]
  },
  {
   "cell_type": "code",
   "execution_count": 10,
   "metadata": {},
   "outputs": [
    {
     "name": "stdout",
     "output_type": "stream",
     "text": [
      "Epoch 1 Loss is: 0.677640974521637\n",
      "Trainining Accuracy: 0.4857142857142857\n",
      "Epoch 2 Loss is: 0.5845378637313843\n",
      "Trainining Accuracy: 0.5578571428571428\n"
     ]
    }
   ],
   "source": [
    "training_labels = full_training_df['label']\n",
    "training_labels = training_labels.to_numpy()\n",
    "training_labels = torch.tensor(training_labels)\n",
    "training_labels = (training_labels+1)//2\n",
    "\n",
    "\n",
    "# https://pytorch.org/tutorials/beginner/basics/data_tutorial.html\n",
    "\n",
    "training_tensor_dataset = TensorDataset(torch_training_output_flat, training_labels)\n",
    "train_dataloader = DataLoader(training_tensor_dataset, batch_size=10, shuffle = True)\n",
    "\n",
    "loss_type = nn.BCELoss()\n",
    "optimizer = torch.optim.Adam(mlp.parameters())\n",
    "\n",
    "for i, epoch in enumerate(range(2)):\n",
    "    mlp.train()\n",
    "    training_correct = 0\n",
    "    training_total = 0\n",
    "    \n",
    "    # This part below was helped written with chatgpt, i was getting errors with the labels and how to corrrectly use dataloader with training the model.\n",
    "\n",
    "    for inputs, targets in train_dataloader:\n",
    "        #forward prop\n",
    "        outputs = mlp(inputs)\n",
    "        targets = targets.float()\n",
    "        loss = loss_type(outputs.squeeze(), targets)\n",
    "        #backward prop\n",
    "        optimizer.zero_grad()\n",
    "        loss.backward()\n",
    "        #grad descent\n",
    "        optimizer.step()\n",
    "\n",
    "        training_loss = loss.item()\n",
    "        predict = (outputs.squeeze() > 0.5)\n",
    "        training_correct += (predict== targets).sum().item()\n",
    "        training_total += targets.size(0)\n",
    "\n",
    "    print(f'Epoch {i+1} Loss is: {training_loss}')\n",
    "    training_accuracy = training_correct / training_total\n",
    "    print(f'Trainining Accuracy: {training_accuracy}')\n"
   ]
  },
  {
   "cell_type": "code",
   "execution_count": 11,
   "metadata": {},
   "outputs": [
    {
     "name": "stdout",
     "output_type": "stream",
     "text": [
      "Test Accuracy: 0.5418060200668896\n"
     ]
    }
   ],
   "source": [
    "testing_top_5000 = np.where(padded_test_seq > 5000, 0, padded_test_seq)\n",
    "testing_output = embed(testing_top_5000)\n",
    "testing_output_flat = flatten(testing_output)\n",
    "\n",
    "testing_output = testing_output.numpy()\n",
    "torch_testing_output = torch.tensor(testing_output)\n",
    "\n",
    "testing_output_flat = testing_output_flat.numpy()\n",
    "torch_testing_output_flat = torch.tensor(testing_output_flat)\n",
    "\n",
    "testing_labels = full_test_df['label']\n",
    "testing_labels = testing_labels.to_numpy()\n",
    "testing_labels = torch.tensor(testing_labels)\n",
    "testing_labels = (testing_labels+1)//2\n",
    "\n",
    "testing_tensor_dataset = TensorDataset(torch_testing_output_flat, testing_labels)\n",
    "test_dataloader = DataLoader(testing_tensor_dataset, batch_size=10)\n",
    "\n",
    "mlp.eval()\n",
    "# https://datascience.stackexchange.com/questions/32651/what-is-the-use-of-torch-no-grad-in-pytorch\n",
    "# disabling gradient calculation is useful for inference, reduces memory consumption for computations\n",
    "with torch.no_grad():\n",
    "    test_correct = 0\n",
    "    test_total = 0\n",
    "    for inputs, targets in test_dataloader:\n",
    "        outputs = mlp(inputs)\n",
    "        predict = (outputs.squeeze() > 0.5)\n",
    "        test_correct += (predict== targets).sum().item()\n",
    "        test_total += targets.size(0)\n",
    "\n",
    "test_accuracy = test_correct / test_total\n",
    "print(f'Test Accuracy: {test_accuracy}')"
   ]
  },
  {
   "cell_type": "code",
   "execution_count": 12,
   "metadata": {},
   "outputs": [],
   "source": [
    "# One Dimensional CNN\n",
    "# After the embedding layer, insert a Conv1D layer. This convolutional layer\n",
    "# has 32 feature maps , and each of the 32 kernels has size 3, i.e. reads embedded\n",
    "# word representations 3 vector elements of the word embedding at a time. The\n",
    "# convolutional layer is followed by a 1D max pooling layer with a length and\n",
    "# stride of 2 that halves the size of the feature maps from the convolutional\n",
    "# layer. The rest of the network is the same as the neural network above\n",
    "\n",
    "training_top_5000_cnn = np.where(padded_training_seq > 5000, 0, padded_training_seq)\n",
    "\n",
    "embed = Embedding(5001, 32)\n",
    "C1D = Conv1D(32, kernel_size = 3)\n",
    "MaxPooling = MaxPooling1D(pool_size =2, strides = 2)\n",
    "flatten = Flatten()\n",
    "\n",
    "training_output_cnn = embed(training_top_5000_cnn)\n",
    "training_output_C1D = C1D(training_output_cnn)\n",
    "training_output_Maxpool = MaxPooling(training_output_C1D)\n",
    "training_output_cnn_flat = flatten(training_output_Maxpool)\n"
   ]
  },
  {
   "cell_type": "code",
   "execution_count": 13,
   "metadata": {},
   "outputs": [
    {
     "name": "stdout",
     "output_type": "stream",
     "text": [
      "Sequential(\n",
      "  (dense1): Linear(in_features=11712, out_features=50, bias=True)\n",
      "  (act1): ReLU()\n",
      "  (dropout1): Dropout(p=0.2, inplace=False)\n",
      "  (dense2): Linear(in_features=50, out_features=50, bias=True)\n",
      "  (act2): ReLU()\n",
      "  (droupout2): Dropout(p=0.5, inplace=False)\n",
      "  (dense3): Linear(in_features=50, out_features=50, bias=True)\n",
      "  (act3): ReLU()\n",
      "  (droupout3): Dropout(p=0.5, inplace=False)\n",
      "  (output): Linear(in_features=50, out_features=1, bias=True)\n",
      "  (outact): Sigmoid()\n",
      ")\n"
     ]
    }
   ],
   "source": [
    "cnn = nn.Sequential()\n",
    "cnn.add_module('dense1', nn.Linear(11712, 50))\n",
    "cnn.add_module('act1', nn.ReLU())\n",
    "cnn.add_module('dropout1', nn.Dropout(p=0.2))\n",
    "cnn.add_module('dense2', nn.Linear(50,50))\n",
    "cnn.add_module('act2', nn.ReLU())\n",
    "cnn.add_module('droupout2', nn.Dropout(p=0.5))\n",
    "cnn.add_module('dense3', nn.Linear(50,50))\n",
    "cnn.add_module('act3', nn.ReLU())\n",
    "cnn.add_module('droupout3', nn.Dropout(p=0.5))\n",
    "cnn.add_module(\"output\", nn.Linear(50, 1))\n",
    "cnn.add_module(\"outact\", nn.Sigmoid())\n",
    "\n",
    "print(cnn)"
   ]
  },
  {
   "cell_type": "code",
   "execution_count": 14,
   "metadata": {},
   "outputs": [
    {
     "name": "stdout",
     "output_type": "stream",
     "text": [
      "Epoch 1 Loss is: 0.7236382961273193\n",
      "CNN Trainining Accuracy: 0.5135714285714286\n",
      "Epoch 2 Loss is: 0.7028557062149048\n",
      "CNN Trainining Accuracy: 0.525\n"
     ]
    }
   ],
   "source": [
    "training_output_cnn_flat = training_output_cnn_flat.numpy()\n",
    "cnn_training_tensor = torch.tensor(training_output_cnn_flat)\n",
    "\n",
    "cnn_training_tensor_dataset = TensorDataset(cnn_training_tensor, training_labels)\n",
    "cnn_train_dataloader = DataLoader(cnn_training_tensor_dataset, batch_size=10, shuffle = True)\n",
    "\n",
    "loss_type = nn.BCELoss()\n",
    "optimizer = torch.optim.Adam(cnn.parameters())\n",
    "\n",
    "for i, epoch in enumerate(range(2)):\n",
    "    cnn.train()\n",
    "    cnn_training_correct = 0\n",
    "    cnn_training_total = 0\n",
    "    \n",
    "    for inputs, targets in cnn_train_dataloader:\n",
    "        #forward prop\n",
    "        cnn_outputs = cnn(inputs)\n",
    "        cnn_targets = targets.float()\n",
    "        cnn_loss = loss_type(cnn_outputs.squeeze(), cnn_targets)\n",
    "        #backward prop\n",
    "        optimizer.zero_grad()\n",
    "        cnn_loss.backward()\n",
    "        #grad descent\n",
    "        optimizer.step()\n",
    "        \n",
    "        cnn_predict = (cnn_outputs.squeeze() > 0.5)\n",
    "        cnn_training_correct += (cnn_predict== targets).sum().item()\n",
    "        cnn_training_total += targets.size(0)\n",
    "\n",
    "    print(f'Epoch {i+1} Loss is: {cnn_loss.item()}')\n",
    "    cnn_training_accuracy = cnn_training_correct / cnn_training_total\n",
    "    print(f'CNN Trainining Accuracy: {cnn_training_accuracy}')\n"
   ]
  },
  {
   "cell_type": "code",
   "execution_count": 15,
   "metadata": {},
   "outputs": [
    {
     "name": "stdout",
     "output_type": "stream",
     "text": [
      "CNN Test Accuracy: 0.5384615384615384\n"
     ]
    }
   ],
   "source": [
    "testing_top_5000_cnn = np.where(padded_test_seq > 5000, 0, padded_test_seq)\n",
    "\n",
    "testing_output_cnn = embed(testing_top_5000_cnn)\n",
    "testing_output_C1D = C1D(testing_output_cnn)\n",
    "testing_output_Maxpool = MaxPooling(testing_output_C1D)\n",
    "testing_output_cnn_flat = flatten(testing_output_Maxpool)\n",
    "\n",
    "testing_output_cnn_flat = testing_output_cnn_flat.numpy()\n",
    "cnn_testing_tensor = torch.tensor(testing_output_cnn_flat)\n",
    "\n",
    "cnn_testing_tensor_dataset = TensorDataset(cnn_testing_tensor, testing_labels)\n",
    "cnn_test_dataloader = DataLoader(cnn_testing_tensor_dataset, batch_size=10)\n",
    "\n",
    "cnn.eval()\n",
    "with torch.no_grad():\n",
    "    cnn_test_correct = 0\n",
    "    cnn_test_total = 0\n",
    "    for inputs, targets in cnn_test_dataloader:\n",
    "        cnn_outputs = cnn(inputs)\n",
    "        cnn_predict = (cnn_outputs.squeeze() > 0.5)\n",
    "        cnn_test_correct += (cnn_predict== targets).sum().item()\n",
    "        cnn_test_total += targets.size(0)\n",
    "\n",
    "cnn_test_accuracy = cnn_test_correct / cnn_test_total\n",
    "print(f'CNN Test Accuracy: {cnn_test_accuracy}')"
   ]
  },
  {
   "cell_type": "code",
   "execution_count": 16,
   "metadata": {},
   "outputs": [
    {
     "name": "stdout",
     "output_type": "stream",
     "text": [
      "Epoch 1/10\n",
      "\u001b[1m140/140\u001b[0m \u001b[32m━━━━━━━━━━━━━━━━━━━━\u001b[0m\u001b[37m\u001b[0m \u001b[1m47s\u001b[0m 307ms/step - accuracy: 0.4879 - loss: 0.6937\n",
      "Epoch 2/10\n",
      "\u001b[1m140/140\u001b[0m \u001b[32m━━━━━━━━━━━━━━━━━━━━\u001b[0m\u001b[37m\u001b[0m \u001b[1m41s\u001b[0m 293ms/step - accuracy: 0.6327 - loss: 0.6416\n",
      "Epoch 3/10\n",
      "\u001b[1m140/140\u001b[0m \u001b[32m━━━━━━━━━━━━━━━━━━━━\u001b[0m\u001b[37m\u001b[0m \u001b[1m39s\u001b[0m 276ms/step - accuracy: 0.8736 - loss: 0.3184\n",
      "Epoch 4/10\n",
      "\u001b[1m140/140\u001b[0m \u001b[32m━━━━━━━━━━━━━━━━━━━━\u001b[0m\u001b[37m\u001b[0m \u001b[1m39s\u001b[0m 277ms/step - accuracy: 0.9436 - loss: 0.2072\n",
      "Epoch 5/10\n",
      "\u001b[1m140/140\u001b[0m \u001b[32m━━━━━━━━━━━━━━━━━━━━\u001b[0m\u001b[37m\u001b[0m \u001b[1m38s\u001b[0m 271ms/step - accuracy: 0.9617 - loss: 0.1234\n",
      "Epoch 6/10\n",
      "\u001b[1m140/140\u001b[0m \u001b[32m━━━━━━━━━━━━━━━━━━━━\u001b[0m\u001b[37m\u001b[0m \u001b[1m38s\u001b[0m 272ms/step - accuracy: 0.9781 - loss: 0.0803\n",
      "Epoch 7/10\n",
      "\u001b[1m140/140\u001b[0m \u001b[32m━━━━━━━━━━━━━━━━━━━━\u001b[0m\u001b[37m\u001b[0m \u001b[1m39s\u001b[0m 281ms/step - accuracy: 0.9777 - loss: 0.0670\n",
      "Epoch 8/10\n",
      "\u001b[1m140/140\u001b[0m \u001b[32m━━━━━━━━━━━━━━━━━━━━\u001b[0m\u001b[37m\u001b[0m \u001b[1m38s\u001b[0m 272ms/step - accuracy: 0.9857 - loss: 0.0519\n",
      "Epoch 9/10\n",
      "\u001b[1m140/140\u001b[0m \u001b[32m━━━━━━━━━━━━━━━━━━━━\u001b[0m\u001b[37m\u001b[0m \u001b[1m39s\u001b[0m 281ms/step - accuracy: 0.9947 - loss: 0.0218\n",
      "Epoch 10/10\n",
      "\u001b[1m140/140\u001b[0m \u001b[32m━━━━━━━━━━━━━━━━━━━━\u001b[0m\u001b[37m\u001b[0m \u001b[1m41s\u001b[0m 291ms/step - accuracy: 0.9954 - loss: 0.0214\n"
     ]
    },
    {
     "data": {
      "text/plain": [
       "<keras.src.callbacks.history.History at 0x170930e07f0>"
      ]
     },
     "execution_count": 16,
     "metadata": {},
     "output_type": "execute_result"
    }
   ],
   "source": [
    "#LSTM \n",
    "# Each word is represented to LSTM as a vector of 32 elements and the LSTM\n",
    "# is followed by a dense layer of 256 ReLUs. Use a dropout rate of 0.2 for both\n",
    "# LSTM and the dense layer. Train the model using 10-50 epochs and batch\n",
    "# size of 10.\n",
    "\n",
    "# Switched to keras LSTM model because my pytorch LSTM model was not converging no matter what I tried.\n",
    "lstm_training_top_5000 = np.where(padded_training_seq > 5000, 0, padded_training_seq)\n",
    "training_labels = full_training_df['label']\n",
    "training_labels = training_labels.to_numpy()\n",
    "training_labels = (training_labels+1)//2\n",
    "\n",
    "# https://keras.io/api/layers/recurrent_layers/lstm/ \n",
    "# I did reference ChatGPT for the below to ensure I was applying every step correctly\n",
    "model_lstm = keras.Sequential()\n",
    "model_lstm.add(Embedding(5001, 32))\n",
    "model_lstm.add(LSTM(units=32, return_sequences= True, dropout= 0.2, recurrent_dropout= 0.2)) \n",
    "model_lstm.add(LSTM(units=32, return_sequences= True, dropout= 0.2, recurrent_dropout= 0.2)) \n",
    "model_lstm.add(LSTM(units=32, return_sequences= True, dropout= 0.2, recurrent_dropout= 0.2)) \n",
    "model_lstm.add(LSTM(units=32, return_sequences= False, dropout= 0.2, recurrent_dropout= 0.2)) # 4th stacked layer that takes outputs from three previous and outputs to the hidden layer shown in the project chart\n",
    "model_lstm.add(Dense(256))\n",
    "model_lstm.add(Activation('relu'))\n",
    "model_lstm.add(Dropout(0.2))\n",
    "model_lstm.add(Dense(1))\n",
    "model_lstm.add(Activation('sigmoid'))\n",
    "\n",
    "model_lstm.compile(optimizer= 'adam', loss='binary_crossentropy', metrics = ['accuracy'])\n",
    "model_lstm.fit(lstm_training_top_5000, training_labels, epochs= 10, batch_size= 10)\n"
   ]
  },
  {
   "cell_type": "code",
   "execution_count": 17,
   "metadata": {},
   "outputs": [
    {
     "name": "stdout",
     "output_type": "stream",
     "text": [
      "\u001b[1m19/19\u001b[0m \u001b[32m━━━━━━━━━━━━━━━━━━━━\u001b[0m\u001b[37m\u001b[0m \u001b[1m3s\u001b[0m 106ms/step - accuracy: 0.6497 - loss: 1.7369\n",
      "Test accuracy: 0.6906354427337646\n"
     ]
    }
   ],
   "source": [
    "lstm_testing_top_5000 = np.where(padded_test_seq > 5000, 0, padded_test_seq)\n",
    "testing_labels = full_test_df['label']\n",
    "testing_labels = testing_labels.to_numpy()\n",
    "testing_labels = (testing_labels+1)//2\n",
    "\n",
    "loss, accuracy = model_lstm.evaluate(lstm_testing_top_5000,testing_labels)\n",
    "print(f'Test accuracy: {accuracy}')\n",
    "\n"
   ]
  }
 ],
 "metadata": {
  "kernelspec": {
   "display_name": "Python 3",
   "language": "python",
   "name": "python3"
  },
  "language_info": {
   "codemirror_mode": {
    "name": "ipython",
    "version": 3
   },
   "file_extension": ".py",
   "mimetype": "text/x-python",
   "name": "python",
   "nbconvert_exporter": "python",
   "pygments_lexer": "ipython3",
   "version": "3.10.8"
  }
 },
 "nbformat": 4,
 "nbformat_minor": 2
}
